{
 "cells": [
  {
   "cell_type": "markdown",
   "metadata": {},
   "source": [
    "# Kinetics Project Validation Tool\n",
    "## This notebook can be used to validate a model against experimental data\n",
    "The following is the isothermal reaction under investigation:\n",
    "$\\require{mhchem}$\n",
    "$$\\ce{A ->[C] D + U}$$\n",
    "\n",
    "where A is the starting reagent, C is the catalyst, D is the desired product, and U is the undesired product.\n",
    "We can control the starting concentration of A, the concentration of C, and the reaction temperature."
   ]
  },
  {
   "cell_type": "code",
   "execution_count": 1,
   "metadata": {
    "collapsed": true
   },
   "outputs": [],
   "source": [
    "import numpy as np\n",
    "import matplotlib.pyplot as plt\n",
    "import pandas as pd\n",
    "from scipy.integrate import odeint\n",
    "from scipy.optimize import curve_fit\n",
    "%matplotlib inline"
   ]
  },
  {
   "cell_type": "markdown",
   "metadata": {},
   "source": [
    "## Use the following cell to import tab-separated experiment data"
   ]
  },
  {
   "cell_type": "code",
   "execution_count": 2,
   "metadata": {
    "collapsed": true
   },
   "outputs": [],
   "source": [
    "filename = \"data/exp1426.tsv\"\n",
    "exp = pd.read_csv(filename, sep=\"\\t|[ ]{1,}\", engine='python', skiprows=2, names=['Time', 'A', 'D', 'U'])\n",
    "init = pd.read_csv(filename, sep=\"\\t|[ ]{1,}\", engine='python', skiprows=1, names=['A', 'D', 'U', 'C', 'T'], nrows=1, usecols=range(2, 7))\n",
    "t_final = exp.Time.values[-1]\n",
    "t_prefinal = exp.Time.values[-2]"
   ]
  },
  {
   "cell_type": "markdown",
   "metadata": {},
   "source": [
    "## We propose the following mechanism\n",
    "$\\require{mhchem}$\n",
    "$$\\ce{\\alpha_1 A + \\gamma C->[k_1] \\beta B + \\gamma C}$$\n",
    "\n",
    "$$\\ce{\\alpha_2 A ->[k_2] \\epsilon_1 E}$$\n",
    "\n",
    "$$\\ce{\\epsilon_2 E <=>[{k_3}][{k_{-3}}] \\upsilon U}$$\n",
    "\n",
    "$$\\ce{\\beta B <=>[{k_4}][{k_{-4}}] \\delta D}$$\n",
    "\n",
    "\n",
    "A is the starting reagent, C is the catalyst, D is the desired product, and U is the undesired product.\n",
    "\n",
    "The following rate laws will be tested.\n",
    "\n",
    "$$-r_A = k_1 C_A^{\\alpha_1} C_C^{\\gamma} + k_2 C_A^{\\alpha_2} + k_4 C_A^{\\alpha_3}$$\n",
    "\n",
    "$$r_U = k_2 C_A^{\\alpha_2} + k_4 C_A^{\\alpha_3}$$\n",
    "\n",
    "$$r_B = k_1 C_A^{\\alpha_1} C_C^{\\gamma} + k_{-3} C_D^{\\delta} - k_3 C_B^{\\beta}$$\n",
    "\n",
    "$$r_D = k_3 C_B^\\beta - k_{-3} C_D^\\delta$$\n",
    "\n",
    "Applying the pseudo steady-state hypothesis on the intermediate species B and adding the last two equations, we obtain the following relation.\n",
    "\n",
    "$$r_D = k_1 C_A^{\\alpha_1} C_C^{\\gamma}.$$\n",
    "\n",
    "Therefore,\n",
    "\n",
    "$$-r_A = r_D + r_U$$\n",
    "\n",
    "## Use the cell below to enter a rate law. Define all necessary constants"
   ]
  },
  {
   "cell_type": "code",
   "execution_count": 3,
   "metadata": {
    "collapsed": true
   },
   "outputs": [],
   "source": [
    "def dadt(cA, cB, alpha, beta1, k1, k_1):\n",
    "    return k_1 * cB**beta1 - k1 * cA**alpha\n",
    "    \n",
    "def dudt(cB, beta3, k3):\n",
    "    return k3 * cB**beta3\n",
    "\n",
    "def dddt(cB, cC, beta2, gamma, k2):\n",
    "    return k2 * cB**beta2 * cC**gamma\n",
    "\n",
    "def concentrations(cA0, cC0, T, time, params):\n",
    "    \"\"\"\"\n",
    "    This function calculates the concentrations of the reacting species using a proposed rate law\n",
    "    cA (mol/L) is the initial concentration of reactant A\n",
    "    cC (mol/L) is the initial catalyst concentration\n",
    "    T (K) is the temperature\n",
    "    time (s) is the elapsed reaction time\n",
    "    Return values:\n",
    "    time (s) array of times at which concentrations were calculated\n",
    "    cA (mol/L) array of concentrations of A during the time interval\n",
    "    cD (mol/L) array of concentrations of the desired product D during the time interval\n",
    "    cU (mol/L) array of concentrations of the undesired product U during the time interval\n",
    "    \"\"\"\n",
    "    \n",
    "    try:\n",
    "        alpha, beta1, beta2, beta3, gamma, k1, k_1, k2, k3 = params\n",
    "    except:\n",
    "        print(\"Params should contain at least 9 parameters!\")\n",
    "        return -1, -1, -1, -1,\n",
    "    else:                \n",
    "        def rates(parms, time):\n",
    "            \"\"\"\n",
    "            Returns the RHS of the system of ODEs\n",
    "            \"\"\"\n",
    "            C_A, C_B, C_D, C_U = parms\n",
    "            rateD = dddt(C_B, cC0, beta2, k1, k_1)\n",
    "            rateU = dudt(C_B, beta3, k3)\n",
    "            rateA = dadt(C_A, C_B, alpha, beta1, k1, k_1)\n",
    "            rateB = -1 * (rateA + rateD + rateU)\n",
    "            return (rateA, rateB, rateD, rateU)\n",
    "        \n",
    "        times = np.linspace(0, time, 100)\n",
    "        \n",
    "        result = odeint(rates, (cA0, 0., 0., 0.), times)\n",
    "        \n",
    "        cA = result[:,0]\n",
    "        cB = result[:,1]\n",
    "        cD = result[:,2]\n",
    "        cU = result[:,3]\n",
    "        \n",
    "    return times, cA, cD, cU, cB"
   ]
  },
  {
   "cell_type": "markdown",
   "metadata": {},
   "source": [
    "## Integrate\n",
    "Use the cell below to carry out the integration"
   ]
  },
  {
   "cell_type": "code",
   "execution_count": 4,
   "metadata": {
    "collapsed": true
   },
   "outputs": [],
   "source": [
    "alpha = 3. # 3\n",
    "beta1 = 2. # 2\n",
    "beta2 = 2. # 2\n",
    "beta3 = 2. # 2\n",
    "gamma = 1. # 1\n",
    "k1 = 4. # 2.2\n",
    "k_1 = 1.5 # 1.6\n",
    "k2 = 1. # 1\n",
    "k3 = 0.2 # 0.38\n",
    "times, A, D, U, B = concentrations(init.A, init.C, init.T, t_prefinal,\n",
    "                                (alpha, beta1, beta2, beta3, gamma, k1, k_1, k2, k3))"
   ]
  },
  {
   "cell_type": "markdown",
   "metadata": {},
   "source": [
    "## Plot\n",
    "Plot the results of the calculation."
   ]
  },
  {
   "cell_type": "code",
   "execution_count": 5,
   "metadata": {},
   "outputs": [
    {
     "data": {
      "text/plain": [
       "[<matplotlib.lines.Line2D at 0x7f6d0573d9b0>,\n",
       " <matplotlib.lines.Line2D at 0x7f6d0573db38>,\n",
       " <matplotlib.lines.Line2D at 0x7f6d056cb518>,\n",
       " <matplotlib.lines.Line2D at 0x7f6d056cbcc0>]"
      ]
     },
     "execution_count": 5,
     "metadata": {},
     "output_type": "execute_result"
    },
    {
     "data": {
      "image/png": "[encoded data removed]",
      "text/plain": [
       "<matplotlib.figure.Figure at 0x7f6d0d0078d0>"
      ]
     },
     "metadata": {},
     "output_type": "display_data"
    }
   ],
   "source": [
    "plt.plot(times, A, 'b.',\n",
    "       times, D, 'g.',\n",
    "       times, U, 'r.',\n",
    "       times, B, 'c.')"
   ]
  },
  {
   "cell_type": "markdown",
   "metadata": {},
   "source": [
    "## Compare\n",
    "Compare to the experimental results below."
   ]
  },
  {
   "cell_type": "code",
   "execution_count": 6,
   "metadata": {},
   "outputs": [
    {
     "data": {
      "text/plain": [
       "[<matplotlib.lines.Line2D at 0x7f6d05645a20>,\n",
       " <matplotlib.lines.Line2D at 0x7f6d05645ba8>,\n",
       " <matplotlib.lines.Line2D at 0x7f6d055cd550>]"
      ]
     },
     "execution_count": 6,
     "metadata": {},
     "output_type": "execute_result"
    },
    {
     "data": {
      "image/png": "[encoded data removed]",
      "text/plain": [
       "<matplotlib.figure.Figure at 0x7f6d05702940>"
      ]
     },
     "metadata": {},
     "output_type": "display_data"
    }
   ],
   "source": [
    "plt.plot(exp.Time.values[:-1], exp.A.values[:-1], 'b.',\n",
    "       exp.Time.values[:-1], exp.D.values[:-1], 'g.',\n",
    "       exp.Time.values[:-1], exp.U.values[:-1], 'r.')"
   ]
  },
  {
   "cell_type": "code",
   "execution_count": 7,
   "metadata": {},
   "outputs": [
    {
     "data": {
      "text/plain": [
       "[<matplotlib.lines.Line2D at 0x7f6d0550e748>,\n",
       " <matplotlib.lines.Line2D at 0x7f6d0550e8d0>,\n",
       " <matplotlib.lines.Line2D at 0x7f6d05515278>,\n",
       " <matplotlib.lines.Line2D at 0x7f6d05515a20>,\n",
       " <matplotlib.lines.Line2D at 0x7f6d0551e240>,\n",
       " <matplotlib.lines.Line2D at 0x7f6d0551ea20>]"
      ]
     },
     "execution_count": 7,
     "metadata": {},
     "output_type": "execute_result"
    },
    {
     "data": {
      "image/png": "[encoded data removed]",
      "text/plain": [
       "<matplotlib.figure.Figure at 0x7f6d056ee6d8>"
      ]
     },
     "metadata": {},
     "output_type": "display_data"
    }
   ],
   "source": [
    "# Plot experimental and calculated results on the same chart\n",
    "plt.plot(times, A, 'b.',\n",
    "       times, D, 'g.',\n",
    "       times, U, 'r.',\n",
    "       exp.Time.values[:-1], exp.A.values[:-1], 'c.',\n",
    "       exp.Time.values[:-1], exp.D.values[:-1], 'y.',\n",
    "       exp.Time.values[:-1], exp.U.values[:-1], 'm.')"
   ]
  },
  {
   "cell_type": "markdown",
   "metadata": {
    "collapsed": true
   },
   "source": [
    "## Parameters of interest"
   ]
  },
  {
   "cell_type": "code",
   "execution_count": 8,
   "metadata": {},
   "outputs": [
    {
     "data": {
      "text/plain": [
       "[<matplotlib.lines.Line2D at 0x7f6d054561d0>,\n",
       " <matplotlib.lines.Line2D at 0x7f6d05456358>]"
      ]
     },
     "execution_count": 8,
     "metadata": {},
     "output_type": "execute_result"
    },
    {
     "data": {
      "image/png": "[encoded data removed]",
      "text/plain": [
       "<matplotlib.figure.Figure at 0x7f6d055aa5f8>"
      ]
     },
     "metadata": {},
     "output_type": "display_data"
    }
   ],
   "source": [
    "# 3-point differentiation of experimental [A] and [U]\n",
    "exp_a = exp.A.values[:-1] # ignore the last long-time value\n",
    "exp_u = exp.U.values[:-1] # ignore the last long-time value\n",
    "exp_t = exp.Time.values[:-1] # ignore the last long-time value\n",
    "delta_t = exp_t[1] - exp_t[0]\n",
    "exp_ra = (np.diff(exp_a[:-1]) + np.diff(exp_a[1:])) / (2 * delta_t)\n",
    "exp_ru = (np.diff(exp_u[:-1]) + np.diff(exp_u[1:])) / (2 * delta_t)\n",
    "\n",
    "plt.plot(exp_t[1:-1], exp_ru, 'm.', exp_t[1:-1], exp_ra, 'c.')"
   ]
  },
  {
   "cell_type": "code",
   "execution_count": 9,
   "metadata": {},
   "outputs": [
    {
     "data": {
      "text/plain": [
       "[<matplotlib.lines.Line2D at 0x7f6d053e0438>]"
      ]
     },
     "execution_count": 9,
     "metadata": {},
     "output_type": "execute_result"
    },
    {
     "data": {
      "image/png": "[encoded data removed]",
      "text/plain": [
       "<matplotlib.figure.Figure at 0x7f6d056218d0>"
      ]
     },
     "metadata": {},
     "output_type": "display_data"
    }
   ],
   "source": [
    "plt.plot(exp_u[1:-1], exp_ru, 'm.')"
   ]
  },
  {
   "cell_type": "code",
   "execution_count": 10,
   "metadata": {},
   "outputs": [
    {
     "data": {
      "text/plain": [
       "[<matplotlib.lines.Line2D at 0x7f6d05375128>]"
      ]
     },
     "execution_count": 10,
     "metadata": {},
     "output_type": "execute_result"
    },
    {
     "data": {
      "image/png": "[encoded data removed]",
      "text/plain": [
       "<matplotlib.figure.Figure at 0x7f6d053fed30>"
      ]
     },
     "metadata": {},
     "output_type": "display_data"
    }
   ],
   "source": [
    "plt.plot(exp_a[1:-1], exp_ra, 'b.')"
   ]
  },
  {
   "cell_type": "code",
   "execution_count": null,
   "metadata": {
    "collapsed": true
   },
   "outputs": [],
   "source": []
  }
 ],
 "metadata": {
  "kernelspec": {
   "display_name": "Python 3",
   "language": "python",
   "name": "python3"
  },
  "language_info": {
   "codemirror_mode": {
    "name": "ipython",
    "version": 3
   },
   "file_extension": ".py",
   "mimetype": "text/x-python",
   "name": "python",
   "nbconvert_exporter": "python",
   "pygments_lexer": "ipython3",
   "version": "3.6.2"
  }
 },
 "nbformat": 4,
 "nbformat_minor": 2
}
