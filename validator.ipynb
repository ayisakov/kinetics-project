{
 "cells": [
  {
   "cell_type": "markdown",
   "metadata": {},
   "source": [
    "# Kinetics Project Validation Tool\n",
    "## This notebook can be used to validate a model against experimental data\n",
    "The following is the isothermal reaction under investigation:\n",
    "$\\require{mhchem}$\n",
    "$$\\ce{A ->[C] D + U}$$\n",
    "\n",
    "where A is the starting reagent, C is the catalyst, D is the desired product, and U is the undesired product.\n",
    "We can control the starting concentration of A, the concentration of C, and the reaction temperature."
   ]
  },
  {
   "cell_type": "code",
   "execution_count": 1,
   "metadata": {
    "collapsed": true
   },
   "outputs": [],
   "source": [
    "import numpy as np\n",
    "import matplotlib.pyplot as plt\n",
    "import pandas as pd\n",
    "from scipy.integrate import odeint\n",
    "import scipy.optimize as optimize\n",
    "%matplotlib inline"
   ]
  },
  {
   "cell_type": "markdown",
   "metadata": {},
   "source": [
    "## Use the following cell to import tab-separated experiment data"
   ]
  },
  {
   "cell_type": "code",
   "execution_count": 2,
   "metadata": {},
   "outputs": [],
   "source": [
    "filename = \"data/exp88.txt\"\n",
    "exp = pd.read_csv(filename, sep=\"\\t|[ ]{1,}\", engine='python', skiprows=2, names=['Time', 'A', 'D', 'U'])\n",
    "init = pd.read_csv(filename, sep=\"\\t|[ ]{1,}\", engine='python', skiprows=1, names=['A', 'D', 'U', 'C', 'T'], nrows=1, usecols=range(2, 7))\n",
    "t_final = exp.Time.values[-1]\n",
    "t_prefinal = exp.Time.values[-2]"
   ]
  },
  {
   "cell_type": "markdown",
   "metadata": {},
   "source": [
    "## We propose the following mechanism\n",
    "$\\require{mhchem}$\n",
    "$$\\ce{\\alpha_1 A + \\gamma C->[k_1] \\beta B + \\gamma C}$$\n",
    "\n",
    "$$\\ce{\\alpha_2 A ->[k_2] \\epsilon_1 E}$$\n",
    "\n",
    "$$\\ce{\\epsilon_2 E <=>[{k_3}][{k_{-3}}] \\upsilon U}$$\n",
    "\n",
    "$$\\ce{\\beta B <=>[{k_4}][{k_{-4}}] \\delta D}$$\n",
    "\n",
    "\n",
    "A is the starting reagent, C is the catalyst, D is the desired product, and U is the undesired product.\n",
    "\n",
    "The following rate laws will be tested.\n",
    "\n",
    "$$-r_A = k_1 C_A^{\\alpha_1} C_C^{\\gamma} + k_2 C_A^{\\alpha_2} + k_4 C_A^{\\alpha_3}$$\n",
    "\n",
    "$$r_U = k_2 C_A^{\\alpha_2} + k_4 C_A^{\\alpha_3}$$\n",
    "\n",
    "$$r_B = k_1 C_A^{\\alpha_1} C_C^{\\gamma} + k_{-3} C_D^{\\delta} - k_3 C_B^{\\beta}$$\n",
    "\n",
    "$$r_D = k_3 C_B^\\beta - k_{-3} C_D^\\delta$$\n",
    "\n",
    "Applying the pseudo steady-state hypothesis on the intermediate species B and adding the last two equations, we obtain the following relation.\n",
    "\n",
    "$$r_D = k_1 C_A^{\\alpha_1} C_C^{\\gamma}.$$\n",
    "\n",
    "Therefore,\n",
    "\n",
    "$$-r_A = r_D + r_U$$\n",
    "\n",
    "## Use the cell below to enter a rate law. Define all necessary constants"
   ]
  },
  {
   "cell_type": "code",
   "execution_count": 3,
   "metadata": {
    "collapsed": true
   },
   "outputs": [],
   "source": [
    "def concentrations(cA0, cC0, T, time, params):\n",
    "    \"\"\"\"\n",
    "    This function calculates the concentrations of the reacting species using a proposed rate law\n",
    "    cA (mol/L) is the initial concentration of reactant A\n",
    "    cC (mol/L) is the initial catalyst concentration\n",
    "    T (K) is the temperature\n",
    "    time (s) is the elapsed reaction time\n",
    "    Return values:\n",
    "    time (s) array of times at which concentrations were calculated\n",
    "    cA (mol/L) array of concentrations of A during the time interval\n",
    "    cD (mol/L) array of concentrations of the desired product D during the time interval\n",
    "    cU (mol/L) array of concentrations of the undesired product U during the time interval\n",
    "    \"\"\"\n",
    "    \n",
    "    try:\n",
    "        alpha, beta1, beta2, beta3, gamma, k1, k_1, k2, k3 = params\n",
    "    except:\n",
    "        print(\"Params should contain at least 9 parameters!\")\n",
    "        return -1, -1, -1, -1,\n",
    "    else:\n",
    "        \n",
    "        def dadt(cA, cB):\n",
    "            return k_1 * cB**beta1 - k1 * cA**alpha\n",
    "            \n",
    "        def dudt(cB):\n",
    "            return k3 * cB**beta3\n",
    "\n",
    "        def dddt(cB, cC):\n",
    "            return k2 * cB**beta2 * cC**gamma\n",
    "                \n",
    "        def rates(parms, time):\n",
    "            \"\"\"\n",
    "            Returns the RHS of the system of ODEs\n",
    "            \"\"\"\n",
    "            C_A, C_B, C_D, C_U = parms\n",
    "            rateD = dddt(C_B, cC0)\n",
    "            rateU = dudt(C_B)\n",
    "            rateA = dadt(C_A, C_B)\n",
    "            rateB = -1 * (rateA + rateD + rateU)\n",
    "            return (rateA, rateB, rateD, rateU)\n",
    "        \n",
    "        times = np.linspace(0, time, 100)\n",
    "        \n",
    "        result = odeint(rates, (cA0, 0., 0., 0.), times)\n",
    "        \n",
    "        cA = result[:,0]\n",
    "        cB = result[:,1]\n",
    "        cD = result[:,2]\n",
    "        cU = result[:,3]\n",
    "        \n",
    "    return times, cA, cD, cU, cB"
   ]
  },
  {
   "cell_type": "markdown",
   "metadata": {},
   "source": [
    "## Integrate\n",
    "Use the cell below to carry out the integration"
   ]
  },
  {
   "cell_type": "code",
   "execution_count": 4,
   "metadata": {},
   "outputs": [],
   "source": [
    "alpha = 2. # 3\n",
    "beta1 = 2. # 2\n",
    "beta2 = 1. # 2\n",
    "beta3 = 2. # 2\n",
    "gamma = 1. # 1\n",
    "k1 = 4. # 2.2\n",
    "k_1 = 1.5 # 1.6\n",
    "k2 = 1. # 1\n",
    "k3 = .043 # 0.38\n",
    "times, A, D, U, B = concentrations(init.A, init.C, init.T, t_prefinal,\n",
    "                                (alpha, beta1, beta2, beta3, gamma, k1, k_1, k2, k3))"
   ]
  },
  {
   "cell_type": "markdown",
   "metadata": {},
   "source": [
    "## Plot\n",
    "Plot the results of the calculation."
   ]
  },
  {
   "cell_type": "code",
   "execution_count": 5,
   "metadata": {},
   "outputs": [
    {
     "data": {
      "text/plain": [
       "[<matplotlib.lines.Line2D at 0x7f4720369ba8>,\n",
       " <matplotlib.lines.Line2D at 0x7f4720369d30>,\n",
       " <matplotlib.lines.Line2D at 0x7f47202f9710>,\n",
       " <matplotlib.lines.Line2D at 0x7f47202f9eb8>]"
      ]
     },
     "execution_count": 5,
     "metadata": {},
     "output_type": "execute_result"
    },
    {
     "data": {
      "image/png": "[encoded data removed]",
      "text/plain": [
       "<matplotlib.figure.Figure at 0x7f47277cb710>"
      ]
     },
     "metadata": {},
     "output_type": "display_data"
    }
   ],
   "source": [
    "plt.plot(times, A, 'b.',\n",
    "       times, D, 'g.',\n",
    "       times, U, 'r.',\n",
    "       times, B, 'c.')"
   ]
  },
  {
   "cell_type": "markdown",
   "metadata": {},
   "source": [
    "## Compare\n",
    "Compare to the experimental results below."
   ]
  },
  {
   "cell_type": "code",
   "execution_count": 6,
   "metadata": {},
   "outputs": [
    {
     "data": {
      "text/plain": [
       "[<matplotlib.lines.Line2D at 0x7f4720269a58>,\n",
       " <matplotlib.lines.Line2D at 0x7f4720269be0>,\n",
       " <matplotlib.lines.Line2D at 0x7f4720272588>]"
      ]
     },
     "execution_count": 6,
     "metadata": {},
     "output_type": "execute_result"
    },
    {
     "data": {
      "image/png": "[encoded data removed]",
      "text/plain": [
       "<matplotlib.figure.Figure at 0x7f4720301f98>"
      ]
     },
     "metadata": {},
     "output_type": "display_data"
    }
   ],
   "source": [
    "plt.plot(exp.Time.values[:-1], exp.A.values[:-1], 'b.',\n",
    "       exp.Time.values[:-1], exp.D.values[:-1], 'g.',\n",
    "       exp.Time.values[:-1], exp.U.values[:-1], 'r.')"
   ]
  },
  {
   "cell_type": "code",
   "execution_count": 7,
   "metadata": {},
   "outputs": [
    {
     "data": {
      "text/plain": [
       "[<matplotlib.lines.Line2D at 0x7f47201a50b8>,\n",
       " <matplotlib.lines.Line2D at 0x7f47201a5240>,\n",
       " <matplotlib.lines.Line2D at 0x7f47201a5ba8>,\n",
       " <matplotlib.lines.Line2D at 0x7f47201ab390>,\n",
       " <matplotlib.lines.Line2D at 0x7f47201abb00>,\n",
       " <matplotlib.lines.Line2D at 0x7f47201b2320>,\n",
       " <matplotlib.lines.Line2D at 0x7f47201b2b00>]"
      ]
     },
     "execution_count": 7,
     "metadata": {},
     "output_type": "execute_result"
    },
    {
     "data": {
      "image/png": "[encoded data removed]",
      "text/plain": [
       "<matplotlib.figure.Figure at 0x7f47201b9048>"
      ]
     },
     "metadata": {},
     "output_type": "display_data"
    }
   ],
   "source": [
    "# Plot experimental and calculated results on the same chart\n",
    "plt.plot(times, A, 'b.',\n",
    "       times, D, 'g.',\n",
    "       times, U, 'r.',\n",
    "         times, B, 'k.',\n",
    "       exp.Time.values[:-1], exp.A.values[:-1], 'c.',\n",
    "       exp.Time.values[:-1], exp.D.values[:-1], 'y.',\n",
    "       exp.Time.values[:-1], exp.U.values[:-1], 'm.')"
   ]
  },
  {
   "cell_type": "markdown",
   "metadata": {
    "collapsed": true
   },
   "source": [
    "## Parameters of interest"
   ]
  },
  {
   "cell_type": "code",
   "execution_count": 8,
   "metadata": {},
   "outputs": [
    {
     "data": {
      "text/plain": [
       "[<matplotlib.lines.Line2D at 0x7f47200dff98>,\n",
       " <matplotlib.lines.Line2D at 0x7f47200e9160>]"
      ]
     },
     "execution_count": 8,
     "metadata": {},
     "output_type": "execute_result"
    },
    {
     "data": {
      "image/png": "[encoded data removed]",
      "text/plain": [
       "<matplotlib.figure.Figure at 0x7f47201d1b00>"
      ]
     },
     "metadata": {},
     "output_type": "display_data"
    }
   ],
   "source": [
    "# 3-point differentiation of experimental [A] and [U]\n",
    "exp_a = exp.A.values[:-1] # ignore the last long-time value\n",
    "exp_u = exp.U.values[:-1] # ignore the last long-time value\n",
    "exp_t = exp.Time.values[:-1] # ignore the last long-time value\n",
    "delta_t = exp_t[1] - exp_t[0]\n",
    "exp_ra = (np.diff(exp_a[:-1]) + np.diff(exp_a[1:])) / (2 * delta_t)\n",
    "exp_ru = (np.diff(exp_u[:-1]) + np.diff(exp_u[1:])) / (2 * delta_t)\n",
    "\n",
    "plt.plot(exp_t[1:-1], exp_ru, 'm.', exp_t[1:-1], exp_ra, 'c.')"
   ]
  },
  {
   "cell_type": "code",
   "execution_count": 9,
   "metadata": {},
   "outputs": [
    {
     "data": {
      "text/plain": [
       "[<matplotlib.lines.Line2D at 0x7f4720065550>]"
      ]
     },
     "execution_count": 9,
     "metadata": {},
     "output_type": "execute_result"
    },
    {
     "data": {
      "image/png": "[encoded data removed]",
      "text/plain": [
       "<matplotlib.figure.Figure at 0x7f4720213fd0>"
      ]
     },
     "metadata": {},
     "output_type": "display_data"
    }
   ],
   "source": [
    "plt.plot(exp_u[1:-1], exp_ru, 'm.')"
   ]
  },
  {
   "cell_type": "code",
   "execution_count": 10,
   "metadata": {},
   "outputs": [
    {
     "data": {
      "text/plain": [
       "[<matplotlib.lines.Line2D at 0x7f471ff7de48>]"
      ]
     },
     "execution_count": 10,
     "metadata": {},
     "output_type": "execute_result"
    },
    {
     "data": {
      "image/png": "[encoded data removed]",
      "text/plain": [
       "<matplotlib.figure.Figure at 0x7f472002c0f0>"
      ]
     },
     "metadata": {},
     "output_type": "display_data"
    }
   ],
   "source": [
    "plt.plot(exp_a[1:-1], exp_ra, 'b.')"
   ]
  },
  {
   "cell_type": "code",
   "execution_count": 14,
   "metadata": {
    "collapsed": true
   },
   "outputs": [],
   "source": [
    "# use a rough parameter optimization to find k2 at the experiment temperature\n",
    "# at about 125 seconds U should equal A\n",
    "#from scipy.optimize import fsolve\n",
    "def objective(k3_trial):\n",
    "    t, a, d, u, b = concentrations(init.A, init.C, init.T, t_prefinal, (alpha, beta1, beta2, beta3, gamma, k1, k_1, k2, k3_trial))\n",
    "    diff = a[15] - u[15]\n",
    "    return diff"
   ]
  },
  {
   "cell_type": "code",
   "execution_count": 16,
   "metadata": {},
   "outputs": [
    {
     "name": "stdout",
     "output_type": "stream",
     "text": [
      "[ 290.49986753]\n"
     ]
    }
   ],
   "source": [
    "initial_guess = [2.364]\n",
    "result = optimize.minimize(objective, initial_guess)\n",
    "if result.success:\n",
    "    fitted_params = result.x\n",
    "    print(fitted_params)\n",
    "else:\n",
    "    raise ValueError(result.message)"
   ]
  },
  {
   "cell_type": "code",
   "execution_count": 17,
   "metadata": {},
   "outputs": [
    {
     "name": "stderr",
     "output_type": "stream",
     "text": [
      "/home/artem/applications/anaconda3/lib/python3.6/site-packages/scipy/integrate/odepack.py:218: ODEintWarning: Excess work done on this call (perhaps wrong Dfun type). Run with full_output = 1 to get quantitative information.\n",
      "  warnings.warn(warning_msg, ODEintWarning)\n"
     ]
    },
    {
     "name": "stdout",
     "output_type": "stream",
     "text": [
      "Found a value!\n",
      "-0.19599999999999412\n"
     ]
    }
   ],
   "source": [
    "guess = 2.364\n",
    "max_loops = 1000000\n",
    "while max_loops:\n",
    "    if abs(objective(guess)) < 0.001:\n",
    "        print(\"Found a value!\")\n",
    "        print(guess)\n",
    "        break\n",
    "    guess-=0.01\n",
    "    max_loops-=1"
   ]
  },
  {
   "cell_type": "code",
   "execution_count": 11,
   "metadata": {},
   "outputs": [],
   "source": [
    "import random as rd\n",
    "np.random.seed()\n",
    "rd.seed()\n",
    "import bisect\n",
    "import math"
   ]
  },
  {
   "cell_type": "code",
   "execution_count": 13,
   "metadata": {},
   "outputs": [],
   "source": [
    "exp = pd.read_csv(filename, sep=\"\\t|[ ]{1,}\", engine='python', skiprows=2, names=['t', 'Ca', 'Cd', 'Cu'])"
   ]
  },
  {
   "cell_type": "code",
   "execution_count": 14,
   "metadata": {},
   "outputs": [
    {
     "name": "stdout",
     "output_type": "stream",
     "text": [
      "[ 0.     0.136  0.117  0.1    0.088  0.078  0.07   0.064  0.059  0.052\n",
      "  0.049  0.046  0.042  0.038  0.037  0.033  0.032  0.029  0.029  0.028\n",
      " -0.001]\n"
     ]
    }
   ],
   "source": [
    "ca = np.array(exp.Ca)\n",
    "cd = np.array(exp.Cd)\n",
    "cu = np.array(exp.Cu)\n",
    "cb = ca[0] - ca - cd - cu\n",
    "print(cb)\n",
    "delta_t = exp.t[1] - exp.t[0]\n",
    "exp_ra = (np.diff(ca[:-1]) + np.diff(ca[1:])) / (2 * delta_t)\n",
    "exp_ru = (np.diff(cu[:-1]) + np.diff(cu[1:])) / (2 * delta_t)\n",
    "concentrations =np.array([ca[0:19], cb[0:19], cd[0:19], cu[0:19]])"
   ]
  },
  {
   "cell_type": "code",
   "execution_count": 15,
   "metadata": {},
   "outputs": [],
   "source": [
    "def rate_A(conc, kf, alpha, kr, beta):\n",
    "    ca = conc[0]\n",
    "    cb = conc[1]\n",
    "    return kf ** ca ** alpha - kr *  cb ** beta\n",
    "def rate_U(cb, k3):\n",
    "    return k3 * cb"
   ]
  },
  {
   "cell_type": "code",
   "execution_count": 16,
   "metadata": {},
   "outputs": [
    {
     "name": "stdout",
     "output_type": "stream",
     "text": [
      "[  1.91466569e-08  -1.16502021e-01   1.36558545e-02   6.22357111e-01]\n",
      "[[  2.44853902e-02  -1.66008011e+05  -2.98813642e-02  -5.21666920e-01]\n",
      " [ -1.66008011e+05   1.12978563e+12   2.04087354e+05   3.56611761e+06]\n",
      " [ -2.98813642e-02   2.04087354e+05   3.79010286e-02   6.71503321e-01]\n",
      " [ -5.21666920e-01   3.56611761e+06   6.71503321e-01   1.20020631e+01]]\n",
      "Parameter 0: 1.914665688625354e-08 +/- 0.15647808201377722 (1 st. dev.)\n",
      "Parameter 1: -0.11650202127994276 +/- 1062913.7476011717 (1 st. dev.)\n",
      "Parameter 2: 0.013655854469300085 +/- 0.19468186499726267 (1 st. dev.)\n",
      "Parameter 3: 0.6223571108946517 +/- 3.4643993830369118 (1 st. dev.)\n"
     ]
    },
    {
     "name": "stderr",
     "output_type": "stream",
     "text": [
      "/home/artem/applications/anaconda3/lib/python3.6/site-packages/ipykernel_launcher.py:4: RuntimeWarning: invalid value encountered in power\n",
      "  after removing the cwd from sys.path.\n",
      "/home/artem/applications/anaconda3/lib/python3.6/site-packages/ipykernel_launcher.py:4: RuntimeWarning: divide by zero encountered in power\n",
      "  after removing the cwd from sys.path.\n"
     ]
    }
   ],
   "source": [
    "y_data = exp_ra\n",
    "x_data = concentrations[0:2]\n",
    "\n",
    "popt, pcov = optimize.curve_fit(rate_A, x_data, y_data)\n",
    "print(popt)\n",
    "print(pcov)\n",
    "\n",
    "optimal_parameters = popt\n",
    "parameter_errors = np.sqrt(np.diag(pcov))\n",
    "\n",
    "def report(optimal_parameters, covariance):\n",
    "    \"Make this a function so we can reuse it in cells below\"\n",
    "    parameter_errors = np.sqrt(np.diag(covariance))\n",
    "    for i in range(len(optimal_parameters)):\n",
    "        print(\"Parameter {}: {} +/- {} (1 st. dev.)\".format(i,\n",
    "                                                            optimal_parameters[i],\n",
    "                                                            parameter_errors[i]))\n",
    "report(popt, pcov)"
   ]
  },
  {
   "cell_type": "code",
   "execution_count": 17,
   "metadata": {},
   "outputs": [
    {
     "data": {
      "text/plain": [
       "array([[ 0.646,  0.41 ,  0.347,  0.3  ,  0.264,  0.234,  0.211,  0.191,\n",
       "         0.174,  0.16 ,  0.148,  0.136,  0.127,  0.119,  0.111,  0.105,\n",
       "         0.098,  0.093,  0.088,  0.083],\n",
       "       [ 0.   ,  0.087,  0.157,  0.21 ,  0.248,  0.28 ,  0.304,  0.324,\n",
       "         0.34 ,  0.355,  0.366,  0.376,  0.384,  0.392,  0.397,  0.404,\n",
       "         0.408,  0.413,  0.416,  0.42 ]])"
      ]
     },
     "execution_count": 17,
     "metadata": {},
     "output_type": "execute_result"
    }
   ],
   "source": [
    "# stacking example\n",
    "stack_rows = np.stack((exp_a, exp_u), 0) # stack along the first axis: exp_a is the first row, exp_u is the second row\n",
    "stack_cols = np.stack((exp_a, exp_u), -1) # stack along last axis: exp_a is the first column, exp_u is the second column\n",
    "stack_rows"
   ]
  },
  {
   "cell_type": "code",
   "execution_count": null,
   "metadata": {
    "collapsed": true
   },
   "outputs": [],
   "source": []
  }
 ],
 "metadata": {
  "kernelspec": {
   "display_name": "Python 3",
   "language": "python",
   "name": "python3"
  },
  "language_info": {
   "codemirror_mode": {
    "name": "ipython",
    "version": 3
   },
   "file_extension": ".py",
   "mimetype": "text/x-python",
   "name": "python",
   "nbconvert_exporter": "python",
   "pygments_lexer": "ipython3",
   "version": "3.6.2"
  }
 },
 "nbformat": 4,
 "nbformat_minor": 2
}
